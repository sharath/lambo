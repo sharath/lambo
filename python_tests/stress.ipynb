{
 "cells": [
  {
   "cell_type": "code",
   "execution_count": 13,
   "metadata": {
    "collapsed": true
   },
   "outputs": [],
   "source": [
    "import urllib.request as urllib2\n",
    "import requests\n",
    "import json\n",
    "import time\n",
    "import random\n",
    "import string"
   ]
  },
  {
   "cell_type": "code",
   "execution_count": 14,
   "metadata": {
    "collapsed": true
   },
   "outputs": [],
   "source": [
    "base = 'http://github.sharath.pro'\n",
    "registerurl = base+'/register'\n",
    "loginurl = base+'/login'\n",
    "histurl = base+'/hist/Ethereum'\n",
    "graphurl = base+'/graph/'\n",
    "\n",
    "kit = []\n",
    "keys = []\n",
    "n = 5"
   ]
  },
  {
   "cell_type": "code",
   "execution_count": 15,
   "metadata": {
    "collapsed": true
   },
   "outputs": [],
   "source": [
    "def stress_register():\n",
    "    start_time = time.time()\n",
    "    for i in range(0, n):\n",
    "        u = ''.join(random.choices(string.ascii_uppercase + string.digits, k=15))\n",
    "        p = ''.join(random.choices(string.ascii_uppercase + string.digits, k=15))\n",
    "        kit.append((u, p))\n",
    "        payload = {'username': u, 'password': p}\n",
    "        r = requests.post(registerurl, data=payload)\n",
    "    return time.time() - start_time"
   ]
  },
  {
   "cell_type": "code",
   "execution_count": 16,
   "metadata": {
    "collapsed": true
   },
   "outputs": [],
   "source": [
    "def stress_login():\n",
    "    start_time = time.time()\n",
    "    for i in range(0, len(kit)):\n",
    "        us, pw = kit[i]\n",
    "        payload = {'username': us, 'password': pw}\n",
    "        resp = requests.post(loginurl, data=payload).text\n",
    "        keys.append(json.loads(resp)['auth_key'])\n",
    "    return time.time() - start_time"
   ]
  },
  {
   "cell_type": "code",
   "execution_count": 17,
   "metadata": {
    "collapsed": true
   },
   "outputs": [],
   "source": [
    "def stress_auth():\n",
    "    start_time = time.time()\n",
    "    for i in keys:\n",
    "        header = { 'Authkey': i }\n",
    "        resp = requests.post(histurl, headers=header)\n",
    "    return time.time() - start_time"
   ]
  },
  {
   "cell_type": "code",
   "execution_count": 18,
   "metadata": {},
   "outputs": [],
   "source": [
    "def comp_test():\n",
    "    time = stress_register()\n",
    "    print(\"%lfs to register %d accounts\" % (time, n))\n",
    "    for i in range(5):\n",
    "        time = stress_login()\n",
    "        print(\"login cycle %d: %lfs\" % (i+1, time))\n",
    "        print(\"%d keys ready\" % (len(keys)))\n",
    "    time = stress_auth()\n",
    "    print(\"%lfs without matrix\" % time)\n",
    "    time = stress_auth()\n",
    "    print(\"%lfs with matrix\" % time)"
   ]
  },
  {
   "cell_type": "code",
   "execution_count": 21,
   "metadata": {},
   "outputs": [
    {
     "name": "stdout",
     "output_type": "stream",
     "text": [
      "1.098310s to register 5 accounts\n",
      "login cycle 1: 0.639065s\n",
      "5 keys ready\n",
      "login cycle 2: 0.614702s\n",
      "10 keys ready\n",
      "login cycle 3: 0.611287s\n",
      "15 keys ready\n",
      "login cycle 4: 0.602252s\n",
      "20 keys ready\n",
      "login cycle 5: 0.642656s\n",
      "25 keys ready\n",
      "0.926042s without matrix\n",
      "0.913580s with matrix\n",
      "2.199256s to register 10 accounts\n",
      "login cycle 1: 1.214567s\n",
      "10 keys ready\n",
      "login cycle 2: 1.210714s\n",
      "20 keys ready\n",
      "login cycle 3: 1.274873s\n",
      "30 keys ready\n",
      "login cycle 4: 1.247648s\n",
      "40 keys ready\n",
      "login cycle 5: 1.276098s\n",
      "50 keys ready\n",
      "2.293333s without matrix\n",
      "1.860655s with matrix\n",
      "3.516439s to register 15 accounts\n",
      "login cycle 1: 1.908239s\n",
      "15 keys ready\n",
      "login cycle 2: 1.879949s\n",
      "30 keys ready\n",
      "login cycle 3: 1.851776s\n",
      "45 keys ready\n",
      "login cycle 4: 1.883780s\n",
      "60 keys ready\n",
      "login cycle 5: 1.903236s\n",
      "75 keys ready\n",
      "3.133102s without matrix\n",
      "2.943622s with matrix\n",
      "4.422355s to register 20 accounts\n",
      "login cycle 1: 2.496773s\n",
      "20 keys ready\n",
      "login cycle 2: 2.498830s\n",
      "40 keys ready\n",
      "login cycle 3: 2.493178s\n",
      "60 keys ready\n",
      "login cycle 4: 2.568855s\n",
      "80 keys ready\n",
      "login cycle 5: 2.515564s\n",
      "100 keys ready\n",
      "3.950704s without matrix\n",
      "3.554551s with matrix\n",
      "5.700008s to register 25 accounts\n",
      "login cycle 1: 3.178377s\n",
      "25 keys ready\n",
      "login cycle 2: 3.199448s\n",
      "50 keys ready\n",
      "login cycle 3: 3.126728s\n",
      "75 keys ready\n",
      "login cycle 4: 3.134988s\n",
      "100 keys ready\n",
      "login cycle 5: 3.119361s\n",
      "125 keys ready\n",
      "5.009723s without matrix\n",
      "4.826784s with matrix\n",
      "6.734396s to register 30 accounts\n",
      "login cycle 1: 3.680830s\n",
      "30 keys ready\n",
      "login cycle 2: 3.783714s\n",
      "60 keys ready\n",
      "login cycle 3: 3.846438s\n",
      "90 keys ready\n",
      "login cycle 4: 3.801010s\n",
      "120 keys ready\n",
      "login cycle 5: 3.741118s\n",
      "150 keys ready\n",
      "6.028126s without matrix\n",
      "5.433121s with matrix\n",
      "7.769086s to register 35 accounts\n",
      "login cycle 1: 4.431974s\n",
      "35 keys ready\n",
      "login cycle 2: 4.437146s\n",
      "70 keys ready\n",
      "login cycle 3: 4.388188s\n",
      "105 keys ready\n",
      "login cycle 4: 4.371655s\n",
      "140 keys ready\n",
      "login cycle 5: 4.387967s\n",
      "175 keys ready\n",
      "7.245141s without matrix\n",
      "6.375947s with matrix\n",
      "9.209826s to register 40 accounts\n",
      "login cycle 1: 4.923959s\n",
      "40 keys ready\n",
      "login cycle 2: 4.937210s\n",
      "80 keys ready\n",
      "login cycle 3: 5.158260s\n",
      "120 keys ready\n",
      "login cycle 4: 4.955269s\n",
      "160 keys ready\n",
      "login cycle 5: 4.881767s\n",
      "200 keys ready\n",
      "8.613411s without matrix\n",
      "7.188369s with matrix\n",
      "9.739001s to register 45 accounts\n",
      "login cycle 1: 5.585924s\n",
      "45 keys ready\n",
      "login cycle 2: 5.607394s\n",
      "90 keys ready\n",
      "login cycle 3: 5.566514s\n",
      "135 keys ready\n",
      "login cycle 4: 5.500893s\n",
      "180 keys ready\n",
      "login cycle 5: 5.538588s\n",
      "225 keys ready\n",
      "9.747363s without matrix\n",
      "8.455576s with matrix\n",
      "11.276421s to register 50 accounts\n",
      "login cycle 1: 6.205477s\n",
      "50 keys ready\n",
      "login cycle 2: 6.362797s\n",
      "100 keys ready\n",
      "login cycle 3: 6.205358s\n",
      "150 keys ready\n",
      "login cycle 4: 6.268647s\n",
      "200 keys ready\n",
      "login cycle 5: 6.265238s\n",
      "250 keys ready\n",
      "12.261378s without matrix\n",
      "9.482181s with matrix\n"
     ]
    }
   ],
   "source": [
    "for i in range(10):\n",
    "    kit = []\n",
    "    keys = []\n",
    "    n = 5*(i+1)\n",
    "    comp_test()"
   ]
  },
  {
   "cell_type": "code",
   "execution_count": null,
   "metadata": {
    "collapsed": true
   },
   "outputs": [],
   "source": []
  }
 ],
 "metadata": {
  "kernelspec": {
   "display_name": "Python 3",
   "language": "python",
   "name": "python3"
  },
  "language_info": {
   "codemirror_mode": {
    "name": "ipython",
    "version": 3
   },
   "file_extension": ".py",
   "mimetype": "text/x-python",
   "name": "python",
   "nbconvert_exporter": "python",
   "pygments_lexer": "ipython3",
   "version": "3.6.3"
  }
 },
 "nbformat": 4,
 "nbformat_minor": 2
}
